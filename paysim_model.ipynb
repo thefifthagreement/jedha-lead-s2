{
 "cells": [
  {
   "cell_type": "markdown",
   "metadata": {
    "colab_type": "text",
    "id": "Iz7FlJfgwFEs"
   },
   "source": [
    "# Installation and Import "
   ]
  },
  {
   "cell_type": "code",
   "execution_count": 40,
   "metadata": {
    "colab": {},
    "colab_type": "code",
    "id": "4J-vxy1CpV48"
   },
   "outputs": [],
   "source": [
    "# Import common libraries\n",
    "import pandas as pd \n",
    "import boto3\n",
    "import numpy as np\n",
    "from sklearn.model_selection import train_test_split"
   ]
  },
  {
   "cell_type": "markdown",
   "metadata": {
    "colab_type": "text",
    "id": "kaKT39hHwHfW"
   },
   "source": [
    "## DataFrame Manipulation"
   ]
  },
  {
   "cell_type": "code",
   "execution_count": 41,
   "metadata": {
    "colab": {
     "base_uri": "https://localhost:8080/",
     "height": 496
    },
    "colab_type": "code",
    "executionInfo": {
     "elapsed": 723,
     "status": "ok",
     "timestamp": 1579351427300,
     "user": {
      "displayName": "Antoine Krajnc",
      "photoUrl": "https://lh3.googleusercontent.com/a-/AAuE7mC4XzNDVGvURzl4T5duDbMr6bUdhkYkDul_37G0OA=s64",
      "userId": "08465960390418158788"
     },
     "user_tz": -60
    },
    "id": "oa7rNfuxrf5d",
    "outputId": "24634f17-7100-436b-da50-f5c422fc0d94"
   },
   "outputs": [
    {
     "data": {
      "text/html": [
       "<div>\n",
       "<style scoped>\n",
       "    .dataframe tbody tr th:only-of-type {\n",
       "        vertical-align: middle;\n",
       "    }\n",
       "\n",
       "    .dataframe tbody tr th {\n",
       "        vertical-align: top;\n",
       "    }\n",
       "\n",
       "    .dataframe thead th {\n",
       "        text-align: right;\n",
       "    }\n",
       "</style>\n",
       "<table border=\"1\" class=\"dataframe\">\n",
       "  <thead>\n",
       "    <tr style=\"text-align: right;\">\n",
       "      <th></th>\n",
       "      <th>isFraud</th>\n",
       "      <th>amount</th>\n",
       "      <th>oldbalanceOrg</th>\n",
       "      <th>newbalanceOrig</th>\n",
       "      <th>oldbalanceDest</th>\n",
       "      <th>newbalanceDest</th>\n",
       "    </tr>\n",
       "  </thead>\n",
       "  <tbody>\n",
       "    <tr>\n",
       "      <th>0</th>\n",
       "      <td>1</td>\n",
       "      <td>181.00</td>\n",
       "      <td>181.0</td>\n",
       "      <td>0.0</td>\n",
       "      <td>0.0</td>\n",
       "      <td>0.00</td>\n",
       "    </tr>\n",
       "    <tr>\n",
       "      <th>1</th>\n",
       "      <td>1</td>\n",
       "      <td>181.00</td>\n",
       "      <td>181.0</td>\n",
       "      <td>0.0</td>\n",
       "      <td>21182.0</td>\n",
       "      <td>0.00</td>\n",
       "    </tr>\n",
       "    <tr>\n",
       "      <th>2</th>\n",
       "      <td>0</td>\n",
       "      <td>229133.94</td>\n",
       "      <td>15325.0</td>\n",
       "      <td>0.0</td>\n",
       "      <td>5083.0</td>\n",
       "      <td>51513.44</td>\n",
       "    </tr>\n",
       "    <tr>\n",
       "      <th>3</th>\n",
       "      <td>0</td>\n",
       "      <td>215310.30</td>\n",
       "      <td>705.0</td>\n",
       "      <td>0.0</td>\n",
       "      <td>22425.0</td>\n",
       "      <td>0.00</td>\n",
       "    </tr>\n",
       "    <tr>\n",
       "      <th>4</th>\n",
       "      <td>0</td>\n",
       "      <td>311685.89</td>\n",
       "      <td>10835.0</td>\n",
       "      <td>0.0</td>\n",
       "      <td>6267.0</td>\n",
       "      <td>2719172.89</td>\n",
       "    </tr>\n",
       "  </tbody>\n",
       "</table>\n",
       "</div>"
      ],
      "text/plain": [
       "   isFraud     amount  oldbalanceOrg  newbalanceOrig  oldbalanceDest  \\\n",
       "0        1     181.00          181.0             0.0             0.0   \n",
       "1        1     181.00          181.0             0.0         21182.0   \n",
       "2        0  229133.94        15325.0             0.0          5083.0   \n",
       "3        0  215310.30          705.0             0.0         22425.0   \n",
       "4        0  311685.89        10835.0             0.0          6267.0   \n",
       "\n",
       "   newbalanceDest  \n",
       "0            0.00  \n",
       "1            0.00  \n",
       "2        51513.44  \n",
       "3            0.00  \n",
       "4      2719172.89  "
      ]
     },
     "execution_count": 41,
     "metadata": {},
     "output_type": "execute_result"
    }
   ],
   "source": [
    "# Visualize the data\n",
    "df = pd.read_csv(\"paysim/paysim_cleaned.csv\")\n",
    "df.head(5)"
   ]
  },
  {
   "cell_type": "markdown",
   "metadata": {
    "colab_type": "text",
    "id": "bFm7c2GXxJZT"
   },
   "source": [
    "# Preprocessing "
   ]
  },
  {
   "cell_type": "code",
   "execution_count": 42,
   "metadata": {
    "colab": {},
    "colab_type": "code",
    "id": "mzltbViAsY44"
   },
   "outputs": [],
   "source": [
    "X = df.drop([\"isFraud\"], axis=1)\n",
    "y = df[\"isFraud\"]\n",
    "\n",
    "# Create a Train Test and Valid Split \n",
    "X, X_valid, y, y_valid = train_test_split(X, y, test_size=0.1, stratify=y)\n",
    "X_train, X_test, y_train, y_test = train_test_split(X, y, stratify=y, test_size=0.2)"
   ]
  },
  {
   "cell_type": "code",
   "execution_count": 43,
   "metadata": {},
   "outputs": [
    {
     "data": {
      "text/plain": [
       "((1994694, 5), (1994694,), (277041, 5))"
      ]
     },
     "execution_count": 43,
     "metadata": {},
     "output_type": "execute_result"
    }
   ],
   "source": [
    "X_train.shape, y_train.shape, X_valid.shape"
   ]
  },
  {
   "cell_type": "code",
   "execution_count": 44,
   "metadata": {},
   "outputs": [
    {
     "data": {
      "text/html": [
       "<div>\n",
       "<style scoped>\n",
       "    .dataframe tbody tr th:only-of-type {\n",
       "        vertical-align: middle;\n",
       "    }\n",
       "\n",
       "    .dataframe tbody tr th {\n",
       "        vertical-align: top;\n",
       "    }\n",
       "\n",
       "    .dataframe thead th {\n",
       "        text-align: right;\n",
       "    }\n",
       "</style>\n",
       "<table border=\"1\" class=\"dataframe\">\n",
       "  <thead>\n",
       "    <tr style=\"text-align: right;\">\n",
       "      <th></th>\n",
       "      <th>amount</th>\n",
       "      <th>oldbalanceOrg</th>\n",
       "      <th>newbalanceOrig</th>\n",
       "      <th>oldbalanceDest</th>\n",
       "      <th>newbalanceDest</th>\n",
       "    </tr>\n",
       "  </thead>\n",
       "  <tbody>\n",
       "    <tr>\n",
       "      <th>2182289</th>\n",
       "      <td>434304.56</td>\n",
       "      <td>107970.0</td>\n",
       "      <td>0.0</td>\n",
       "      <td>1231539.88</td>\n",
       "      <td>1665844.44</td>\n",
       "    </tr>\n",
       "    <tr>\n",
       "      <th>1030605</th>\n",
       "      <td>103123.43</td>\n",
       "      <td>157.0</td>\n",
       "      <td>0.0</td>\n",
       "      <td>69206.70</td>\n",
       "      <td>172330.13</td>\n",
       "    </tr>\n",
       "    <tr>\n",
       "      <th>1368608</th>\n",
       "      <td>29168.63</td>\n",
       "      <td>12183.0</td>\n",
       "      <td>0.0</td>\n",
       "      <td>792536.46</td>\n",
       "      <td>821705.09</td>\n",
       "    </tr>\n",
       "    <tr>\n",
       "      <th>1413690</th>\n",
       "      <td>199046.52</td>\n",
       "      <td>29767.0</td>\n",
       "      <td>0.0</td>\n",
       "      <td>0.00</td>\n",
       "      <td>199046.52</td>\n",
       "    </tr>\n",
       "    <tr>\n",
       "      <th>2275047</th>\n",
       "      <td>151700.26</td>\n",
       "      <td>0.0</td>\n",
       "      <td>0.0</td>\n",
       "      <td>3046008.00</td>\n",
       "      <td>3197708.26</td>\n",
       "    </tr>\n",
       "  </tbody>\n",
       "</table>\n",
       "</div>"
      ],
      "text/plain": [
       "            amount  oldbalanceOrg  newbalanceOrig  oldbalanceDest  \\\n",
       "2182289  434304.56       107970.0             0.0      1231539.88   \n",
       "1030605  103123.43          157.0             0.0        69206.70   \n",
       "1368608   29168.63        12183.0             0.0       792536.46   \n",
       "1413690  199046.52        29767.0             0.0            0.00   \n",
       "2275047  151700.26            0.0             0.0      3046008.00   \n",
       "\n",
       "         newbalanceDest  \n",
       "2182289      1665844.44  \n",
       "1030605       172330.13  \n",
       "1368608       821705.09  \n",
       "1413690       199046.52  \n",
       "2275047      3197708.26  "
      ]
     },
     "execution_count": 44,
     "metadata": {},
     "output_type": "execute_result"
    }
   ],
   "source": [
    "X_train.head()"
   ]
  },
  {
   "cell_type": "code",
   "execution_count": 6,
   "metadata": {
    "colab": {},
    "colab_type": "code",
    "id": "I1Kg42gOxwuV"
   },
   "outputs": [],
   "source": [
    "# Simple Preprocessing Pipeline \n",
    "from sklearn.preprocessing import StandardScaler\n",
    "\n",
    "# Remove NaN that numeric\n",
    "def remove_numeric_missing_values(df):\n",
    "    filled_df = df.fillna(df.median())\n",
    "    return filled_df\n",
    "\n",
    "# Remove NaN that are of type string\n",
    "def remove_string_missing_values(df):\n",
    "    filled_df = df.fillna(\"unknown\")\n",
    "    return filled_df \n",
    "\n",
    "# Create dummy variables\n",
    "def dummyfication(df):\n",
    "    dummy_df=pd.get_dummies(df, drop_first=True)\n",
    "    return dummy_df\n",
    "\n",
    "# Normalize\n",
    "def normalize(df, standard_scaler):\n",
    "    normalized_df = standard_scaler.transform(df)\n",
    "    return normalized_df \n",
    "\n",
    "# Fit it all into one pipeline\n",
    "def preprocessing_pipeline(df, target, standard_scaler, *args):\n",
    "    df = df.drop(columns=[col for col in args]) # Drop useless columns \n",
    "    df = remove_numeric_missing_values(df)\n",
    "    df = remove_string_missing_values(df)\n",
    "    df = dummyfication(df)\n",
    "    columns = ['target']\n",
    "    columns.extend(df.columns)\n",
    "    df = normalize(df, standard_scaler)\n",
    "    df = np.hstack((target.values.reshape(-1,1), df))\n",
    "    df = pd.DataFrame(data=df, columns=columns)\n",
    "    return df "
   ]
  },
  {
   "cell_type": "code",
   "execution_count": 7,
   "metadata": {
    "colab": {
     "base_uri": "https://localhost:8080/",
     "height": 419
    },
    "colab_type": "code",
    "executionInfo": {
     "elapsed": 472,
     "status": "ok",
     "timestamp": 1579367076446,
     "user": {
      "displayName": "Antoine Krajnc",
      "photoUrl": "https://lh3.googleusercontent.com/a-/AAuE7mC4XzNDVGvURzl4T5duDbMr6bUdhkYkDul_37G0OA=s64",
      "userId": "08465960390418158788"
     },
     "user_tz": -60
    },
    "id": "MwPOl_P4zAZt",
    "outputId": "f3922401-f2ce-4f73-d380-940c704317bf"
   },
   "outputs": [
    {
     "data": {
      "text/html": [
       "<div>\n",
       "<style scoped>\n",
       "    .dataframe tbody tr th:only-of-type {\n",
       "        vertical-align: middle;\n",
       "    }\n",
       "\n",
       "    .dataframe tbody tr th {\n",
       "        vertical-align: top;\n",
       "    }\n",
       "\n",
       "    .dataframe thead th {\n",
       "        text-align: right;\n",
       "    }\n",
       "</style>\n",
       "<table border=\"1\" class=\"dataframe\">\n",
       "  <thead>\n",
       "    <tr style=\"text-align: right;\">\n",
       "      <th></th>\n",
       "      <th>target</th>\n",
       "      <th>amount</th>\n",
       "      <th>oldbalanceOrg</th>\n",
       "      <th>newbalanceOrig</th>\n",
       "      <th>oldbalanceDest</th>\n",
       "      <th>newbalanceDest</th>\n",
       "    </tr>\n",
       "  </thead>\n",
       "  <tbody>\n",
       "    <tr>\n",
       "      <th>0</th>\n",
       "      <td>0.0</td>\n",
       "      <td>-0.043675</td>\n",
       "      <td>-0.190379</td>\n",
       "      <td>-0.107734</td>\n",
       "      <td>-0.179387</td>\n",
       "      <td>-0.176367</td>\n",
       "    </tr>\n",
       "    <tr>\n",
       "      <th>1</th>\n",
       "      <td>0.0</td>\n",
       "      <td>-0.262365</td>\n",
       "      <td>-0.147164</td>\n",
       "      <td>-0.107734</td>\n",
       "      <td>-0.387670</td>\n",
       "      <td>-0.405873</td>\n",
       "    </tr>\n",
       "    <tr>\n",
       "      <th>2</th>\n",
       "      <td>0.0</td>\n",
       "      <td>-0.354906</td>\n",
       "      <td>-0.030684</td>\n",
       "      <td>0.145319</td>\n",
       "      <td>-0.402993</td>\n",
       "      <td>-0.437261</td>\n",
       "    </tr>\n",
       "    <tr>\n",
       "      <th>3</th>\n",
       "      <td>0.0</td>\n",
       "      <td>0.004390</td>\n",
       "      <td>-0.053684</td>\n",
       "      <td>-0.107734</td>\n",
       "      <td>0.092818</td>\n",
       "      <td>0.078470</td>\n",
       "    </tr>\n",
       "    <tr>\n",
       "      <th>4</th>\n",
       "      <td>0.0</td>\n",
       "      <td>-0.191311</td>\n",
       "      <td>-0.190379</td>\n",
       "      <td>-0.107734</td>\n",
       "      <td>-0.198605</td>\n",
       "      <td>-0.221725</td>\n",
       "    </tr>\n",
       "  </tbody>\n",
       "</table>\n",
       "</div>"
      ],
      "text/plain": [
       "   target    amount  oldbalanceOrg  newbalanceOrig  oldbalanceDest  \\\n",
       "0     0.0 -0.043675      -0.190379       -0.107734       -0.179387   \n",
       "1     0.0 -0.262365      -0.147164       -0.107734       -0.387670   \n",
       "2     0.0 -0.354906      -0.030684        0.145319       -0.402993   \n",
       "3     0.0  0.004390      -0.053684       -0.107734        0.092818   \n",
       "4     0.0 -0.191311      -0.190379       -0.107734       -0.198605   \n",
       "\n",
       "   newbalanceDest  \n",
       "0       -0.176367  \n",
       "1       -0.405873  \n",
       "2       -0.437261  \n",
       "3        0.078470  \n",
       "4       -0.221725  "
      ]
     },
     "execution_count": 7,
     "metadata": {},
     "output_type": "execute_result"
    }
   ],
   "source": [
    "# Creating a Train set\n",
    "sc_X = StandardScaler()\n",
    "sc_X.fit(X_train)\n",
    "\n",
    "train_set = preprocessing_pipeline(X_train, y_train, sc_X)\n",
    "train_set.head()"
   ]
  },
  {
   "cell_type": "code",
   "execution_count": 8,
   "metadata": {
    "colab": {
     "base_uri": "https://localhost:8080/",
     "height": 419
    },
    "colab_type": "code",
    "executionInfo": {
     "elapsed": 531,
     "status": "ok",
     "timestamp": 1579367088780,
     "user": {
      "displayName": "Antoine Krajnc",
      "photoUrl": "https://lh3.googleusercontent.com/a-/AAuE7mC4XzNDVGvURzl4T5duDbMr6bUdhkYkDul_37G0OA=s64",
      "userId": "08465960390418158788"
     },
     "user_tz": -60
    },
    "id": "gF45WN7J5fyx",
    "outputId": "c4f4e843-65bf-4d9a-cf24-6501e9d07be4"
   },
   "outputs": [
    {
     "data": {
      "text/html": [
       "<div>\n",
       "<style scoped>\n",
       "    .dataframe tbody tr th:only-of-type {\n",
       "        vertical-align: middle;\n",
       "    }\n",
       "\n",
       "    .dataframe tbody tr th {\n",
       "        vertical-align: top;\n",
       "    }\n",
       "\n",
       "    .dataframe thead th {\n",
       "        text-align: right;\n",
       "    }\n",
       "</style>\n",
       "<table border=\"1\" class=\"dataframe\">\n",
       "  <thead>\n",
       "    <tr style=\"text-align: right;\">\n",
       "      <th></th>\n",
       "      <th>target</th>\n",
       "      <th>amount</th>\n",
       "      <th>oldbalanceOrg</th>\n",
       "      <th>newbalanceOrig</th>\n",
       "      <th>oldbalanceDest</th>\n",
       "      <th>newbalanceDest</th>\n",
       "    </tr>\n",
       "  </thead>\n",
       "  <tbody>\n",
       "    <tr>\n",
       "      <th>0</th>\n",
       "      <td>0.0</td>\n",
       "      <td>-0.048917</td>\n",
       "      <td>-0.102703</td>\n",
       "      <td>-0.107734</td>\n",
       "      <td>-0.085507</td>\n",
       "      <td>-0.092617</td>\n",
       "    </tr>\n",
       "    <tr>\n",
       "      <th>1</th>\n",
       "      <td>1.0</td>\n",
       "      <td>0.068086</td>\n",
       "      <td>1.325618</td>\n",
       "      <td>-0.107734</td>\n",
       "      <td>-0.402993</td>\n",
       "      <td>-0.357013</td>\n",
       "    </tr>\n",
       "    <tr>\n",
       "      <th>2</th>\n",
       "      <td>0.0</td>\n",
       "      <td>-0.341812</td>\n",
       "      <td>-0.190379</td>\n",
       "      <td>-0.107734</td>\n",
       "      <td>0.003569</td>\n",
       "      <td>-0.067775</td>\n",
       "    </tr>\n",
       "    <tr>\n",
       "      <th>3</th>\n",
       "      <td>0.0</td>\n",
       "      <td>-0.013115</td>\n",
       "      <td>-0.119458</td>\n",
       "      <td>-0.107734</td>\n",
       "      <td>1.820381</td>\n",
       "      <td>1.634614</td>\n",
       "    </tr>\n",
       "    <tr>\n",
       "      <th>4</th>\n",
       "      <td>0.0</td>\n",
       "      <td>-0.204291</td>\n",
       "      <td>-0.175095</td>\n",
       "      <td>-0.107734</td>\n",
       "      <td>-0.402993</td>\n",
       "      <td>-0.408687</td>\n",
       "    </tr>\n",
       "  </tbody>\n",
       "</table>\n",
       "</div>"
      ],
      "text/plain": [
       "   target    amount  oldbalanceOrg  newbalanceOrig  oldbalanceDest  \\\n",
       "0     0.0 -0.048917      -0.102703       -0.107734       -0.085507   \n",
       "1     1.0  0.068086       1.325618       -0.107734       -0.402993   \n",
       "2     0.0 -0.341812      -0.190379       -0.107734        0.003569   \n",
       "3     0.0 -0.013115      -0.119458       -0.107734        1.820381   \n",
       "4     0.0 -0.204291      -0.175095       -0.107734       -0.402993   \n",
       "\n",
       "   newbalanceDest  \n",
       "0       -0.092617  \n",
       "1       -0.357013  \n",
       "2       -0.067775  \n",
       "3        1.634614  \n",
       "4       -0.408687  "
      ]
     },
     "execution_count": 8,
     "metadata": {},
     "output_type": "execute_result"
    }
   ],
   "source": [
    "# Creating a Test set\n",
    "test_set = preprocessing_pipeline(X_test, y_test, sc_X)\n",
    "test_set.head()"
   ]
  },
  {
   "cell_type": "code",
   "execution_count": 9,
   "metadata": {},
   "outputs": [
    {
     "data": {
      "text/html": [
       "<div>\n",
       "<style scoped>\n",
       "    .dataframe tbody tr th:only-of-type {\n",
       "        vertical-align: middle;\n",
       "    }\n",
       "\n",
       "    .dataframe tbody tr th {\n",
       "        vertical-align: top;\n",
       "    }\n",
       "\n",
       "    .dataframe thead th {\n",
       "        text-align: right;\n",
       "    }\n",
       "</style>\n",
       "<table border=\"1\" class=\"dataframe\">\n",
       "  <thead>\n",
       "    <tr style=\"text-align: right;\">\n",
       "      <th></th>\n",
       "      <th>target</th>\n",
       "      <th>amount</th>\n",
       "      <th>oldbalanceOrg</th>\n",
       "      <th>newbalanceOrig</th>\n",
       "      <th>oldbalanceDest</th>\n",
       "      <th>newbalanceDest</th>\n",
       "    </tr>\n",
       "  </thead>\n",
       "  <tbody>\n",
       "    <tr>\n",
       "      <th>0</th>\n",
       "      <td>0.0</td>\n",
       "      <td>-0.086573</td>\n",
       "      <td>-0.190379</td>\n",
       "      <td>-0.107734</td>\n",
       "      <td>-0.180990</td>\n",
       "      <td>-0.185953</td>\n",
       "    </tr>\n",
       "    <tr>\n",
       "      <th>1</th>\n",
       "      <td>0.0</td>\n",
       "      <td>-0.157908</td>\n",
       "      <td>-0.150636</td>\n",
       "      <td>-0.107734</td>\n",
       "      <td>-0.402993</td>\n",
       "      <td>-0.399888</td>\n",
       "    </tr>\n",
       "    <tr>\n",
       "      <th>2</th>\n",
       "      <td>0.0</td>\n",
       "      <td>-0.355925</td>\n",
       "      <td>-0.190379</td>\n",
       "      <td>-0.107734</td>\n",
       "      <td>-0.137680</td>\n",
       "      <td>-0.197958</td>\n",
       "    </tr>\n",
       "    <tr>\n",
       "      <th>3</th>\n",
       "      <td>0.0</td>\n",
       "      <td>0.261368</td>\n",
       "      <td>-0.190379</td>\n",
       "      <td>-0.107734</td>\n",
       "      <td>-0.158454</td>\n",
       "      <td>-0.099600</td>\n",
       "    </tr>\n",
       "    <tr>\n",
       "      <th>4</th>\n",
       "      <td>0.0</td>\n",
       "      <td>-0.225232</td>\n",
       "      <td>-0.190379</td>\n",
       "      <td>-0.107734</td>\n",
       "      <td>-0.353205</td>\n",
       "      <td>-0.367717</td>\n",
       "    </tr>\n",
       "  </tbody>\n",
       "</table>\n",
       "</div>"
      ],
      "text/plain": [
       "   target    amount  oldbalanceOrg  newbalanceOrig  oldbalanceDest  \\\n",
       "0     0.0 -0.086573      -0.190379       -0.107734       -0.180990   \n",
       "1     0.0 -0.157908      -0.150636       -0.107734       -0.402993   \n",
       "2     0.0 -0.355925      -0.190379       -0.107734       -0.137680   \n",
       "3     0.0  0.261368      -0.190379       -0.107734       -0.158454   \n",
       "4     0.0 -0.225232      -0.190379       -0.107734       -0.353205   \n",
       "\n",
       "   newbalanceDest  \n",
       "0       -0.185953  \n",
       "1       -0.399888  \n",
       "2       -0.197958  \n",
       "3       -0.099600  \n",
       "4       -0.367717  "
      ]
     },
     "execution_count": 9,
     "metadata": {},
     "output_type": "execute_result"
    }
   ],
   "source": [
    "valid_set = preprocessing_pipeline(X_valid, y_valid, sc_X)\n",
    "valid_set.head()"
   ]
  },
  {
   "cell_type": "markdown",
   "metadata": {
    "colab_type": "text",
    "id": "Qpc8yXY9xGrL"
   },
   "source": [
    "## File upload "
   ]
  },
  {
   "cell_type": "code",
   "execution_count": 10,
   "metadata": {
    "colab": {},
    "colab_type": "code",
    "id": "RjPZsmVZ6Ixe"
   },
   "outputs": [],
   "source": [
    "# Create two CSV files that we will upload to S3\n",
    "train_file = train_set.to_csv(\"paysim/paysim-train-set.csv\", index=False, header=False)\n",
    "test_file = test_set.to_csv(\"paysim/paysim-test-set.csv\", index=False, header=False)\n",
    "valid_file = valid_set.to_csv(\"paysim/paysim-valid-set.csv\", index=False, header=False)"
   ]
  },
  {
   "cell_type": "code",
   "execution_count": 45,
   "metadata": {
    "colab": {},
    "colab_type": "code",
    "id": "mTf0fqkFtVES"
   },
   "outputs": [],
   "source": [
    "# Create a boto3 session with AWS Credentials\n",
    "aws_session = boto3.Session(\n",
    "    region_name=\"eu-west-1\"\n",
    ")\n",
    "s3 = aws_session.client(\"s3\")"
   ]
  },
  {
   "cell_type": "code",
   "execution_count": 46,
   "metadata": {},
   "outputs": [],
   "source": [
    "BUCKET_NAME = \"lead-s2-paysim\"\n",
    "PREFIX = \"model\""
   ]
  },
  {
   "cell_type": "code",
   "execution_count": 13,
   "metadata": {
    "colab": {
     "base_uri": "https://localhost:8080/",
     "height": 204
    },
    "colab_type": "code",
    "executionInfo": {
     "elapsed": 2072,
     "status": "ok",
     "timestamp": 1579367097975,
     "user": {
      "displayName": "Antoine Krajnc",
      "photoUrl": "https://lh3.googleusercontent.com/a-/AAuE7mC4XzNDVGvURzl4T5duDbMr6bUdhkYkDul_37G0OA=s64",
      "userId": "08465960390418158788"
     },
     "user_tz": -60
    },
    "id": "Xl4N15kPvPSo",
    "outputId": "03e478fe-08f5-499d-f831-600d4bc04d64"
   },
   "outputs": [
    {
     "data": {
      "text/plain": [
       "{'ResponseMetadata': {'RequestId': '39A27921A367BECC',\n",
       "  'HostId': 'o+45bO+3w+xCazZTmENKsvJJey/GPFWYQ0y3lI2BcxkzfBdmSj3lf8Yk9ewofr/X993JfVgRA5o=',\n",
       "  'HTTPStatusCode': 200,\n",
       "  'HTTPHeaders': {'x-amz-id-2': 'o+45bO+3w+xCazZTmENKsvJJey/GPFWYQ0y3lI2BcxkzfBdmSj3lf8Yk9ewofr/X993JfVgRA5o=',\n",
       "   'x-amz-request-id': '39A27921A367BECC',\n",
       "   'date': 'Fri, 25 Sep 2020 07:02:02 GMT',\n",
       "   'etag': '\"f14fa89ee289b727e8c103af040af6a5\"',\n",
       "   'content-length': '0',\n",
       "   'server': 'AmazonS3'},\n",
       "  'RetryAttempts': 0},\n",
       " 'ETag': '\"f14fa89ee289b727e8c103af040af6a5\"'}"
      ]
     },
     "execution_count": 13,
     "metadata": {},
     "output_type": "execute_result"
    }
   ],
   "source": [
    "# Upload training ,testing and valid set to an S3 Bucket\n",
    "s3.put_object(\n",
    "    Body=open(\"paysim/paysim-train-set.csv\").read(),\n",
    "    Bucket=\"lead-s2-paysim\",\n",
    "    Key=\"model/train/paysim-train.csv\"\n",
    ")\n",
    "\n",
    "s3.put_object(\n",
    "    Body=open(\"paysim/paysim-test-set.csv\").read(),\n",
    "    Bucket=\"lead-s2-paysim\",\n",
    "    Key=\"model/test/paysim-test.csv\"\n",
    ")\n",
    "\n",
    "s3.put_object(\n",
    "    Body=open(\"paysim/paysim-valid-set.csv\").read(),\n",
    "    Bucket=BUCKET_NAME,\n",
    "    Key=\"model/valid/paysim-valid.csv\"\n",
    ")"
   ]
  },
  {
   "cell_type": "markdown",
   "metadata": {
    "colab_type": "text",
    "id": "bSaYfhY-wKaZ"
   },
   "source": [
    "## Import models"
   ]
  },
  {
   "cell_type": "code",
   "execution_count": 47,
   "metadata": {
    "colab": {},
    "colab_type": "code",
    "id": "RP41BqCvv7-I"
   },
   "outputs": [
    {
     "name": "stderr",
     "output_type": "stream",
     "text": [
      "'get_image_uri' method will be deprecated in favor of 'ImageURIProvider' class in SageMaker Python SDK v2.\n"
     ]
    }
   ],
   "source": [
    "# Import SageMaker and a container with a XGBoost image\n",
    "import sagemaker \n",
    "from sagemaker.amazon.amazon_estimator import get_image_uri\n",
    "\n",
    "container = get_image_uri(aws_session.region_name, \"xgboost\", repo_version=\"1.0-1\")"
   ]
  },
  {
   "cell_type": "code",
   "execution_count": 15,
   "metadata": {
    "colab": {
     "base_uri": "https://localhost:8080/",
     "height": 34
    },
    "colab_type": "code",
    "executionInfo": {
     "elapsed": 599,
     "status": "ok",
     "timestamp": 1579538734433,
     "user": {
      "displayName": "Antoine Krajnc",
      "photoUrl": "https://lh3.googleusercontent.com/a-/AAuE7mC4XzNDVGvURzl4T5duDbMr6bUdhkYkDul_37G0OA=s64",
      "userId": "08465960390418158788"
     },
     "user_tz": -60
    },
    "id": "4zefetSg12xe",
    "outputId": "f1f5331d-90a9-4bd8-ac33-a3ad047a618f"
   },
   "outputs": [
    {
     "data": {
      "text/plain": [
       "'141502667606.dkr.ecr.eu-west-1.amazonaws.com/sagemaker-xgboost:1.0-1-cpu-py3'"
      ]
     },
     "execution_count": 15,
     "metadata": {},
     "output_type": "execute_result"
    }
   ],
   "source": [
    "container"
   ]
  },
  {
   "cell_type": "code",
   "execution_count": 48,
   "metadata": {
    "colab": {
     "base_uri": "https://localhost:8080/",
     "height": 34
    },
    "colab_type": "code",
    "executionInfo": {
     "elapsed": 395,
     "status": "ok",
     "timestamp": 1579442181421,
     "user": {
      "displayName": "Antoine Krajnc",
      "photoUrl": "https://lh3.googleusercontent.com/a-/AAuE7mC4XzNDVGvURzl4T5duDbMr6bUdhkYkDul_37G0OA=s64",
      "userId": "08465960390418158788"
     },
     "user_tz": -60
    },
    "id": "GpFd4qMB8Uqf",
    "outputId": "3c62dbc2-098e-47fc-92ec-9905a5096daa"
   },
   "outputs": [
    {
     "name": "stdout",
     "output_type": "stream",
     "text": [
      "s3://lead-s2-paysim/model/train s3://lead-s2-paysim/model/test s3://lead-s2-paysim/model/valid\n"
     ]
    }
   ],
   "source": [
    "# Set variables for our Bucket URI\n",
    "train_data = 's3://{}/{}/{}'.format(BUCKET_NAME, PREFIX, 'train')\n",
    "\n",
    "test_data = 's3://{}/{}/{}'.format(BUCKET_NAME, PREFIX, 'test')\n",
    "\n",
    "validation_data = 's3://{}/{}/{}'.format(BUCKET_NAME, PREFIX, 'valid')\n",
    "\n",
    "s3_output_location = 's3://{}/{}/{}'.format(BUCKET_NAME, PREFIX, 'xgboost_model_sdk')\n",
    "\n",
    "print(train_data, test_data, validation_data)"
   ]
  },
  {
   "cell_type": "code",
   "execution_count": 49,
   "metadata": {
    "colab": {},
    "colab_type": "code",
    "id": "xdSjkwfN9yca"
   },
   "outputs": [],
   "source": [
    "# Define an IAM role as well as a SageMaker Session\n",
    "ROLE = \"arn:aws:iam::591262896876:role/service-role/AmazonSageMaker-ExecutionRole-20200922T142449\"\n",
    "sagemaker_session = sagemaker.Session(boto_session=aws_session)"
   ]
  },
  {
   "cell_type": "code",
   "execution_count": 18,
   "metadata": {
    "colab": {},
    "colab_type": "code",
    "id": "Tf_0CToP833D"
   },
   "outputs": [
    {
     "name": "stderr",
     "output_type": "stream",
     "text": [
      "Parameter image_name will be renamed to image_uri in SageMaker Python SDK v2.\n"
     ]
    }
   ],
   "source": [
    "# Create an Estimator \n",
    "xgb_model = sagemaker.estimator.Estimator(container,\n",
    "                                          ROLE,\n",
    "                                          train_instance_count=1, \n",
    "                                          train_instance_type='ml.m5.large',\n",
    "                                          train_volume_size = 1,\n",
    "                                          output_path=s3_output_location,\n",
    "                                          sagemaker_session=sagemaker_session,\n",
    "                                          )\n",
    "\n",
    "xgb_model.set_hyperparameters(\n",
    "    eval_metric='auc',\n",
    "    objective='binary:logistic',\n",
    "    scale_pos_weight=336.0\n",
    ")"
   ]
  },
  {
   "cell_type": "code",
   "execution_count": 25,
   "metadata": {},
   "outputs": [],
   "source": [
    "# Create a HyperParameter Tuning Job \n",
    "from sagemaker.tuner import HyperparameterTuner\n",
    "from sagemaker.parameter import ContinuousParameter\n",
    "from sagemaker.parameter import CategoricalParameter\n",
    "from sagemaker.parameter import IntegerParameter\n",
    "\n",
    "hyper_params = {\n",
    "    'max_depth': IntegerParameter(3, 10),\n",
    "    'eta': ContinuousParameter(.01, .2),\n",
    "    'gamma': ContinuousParameter(2, 6),\n",
    "    'min_child_weight': IntegerParameter(4, 8),\n",
    "    'num_round': IntegerParameter(10, 25),\n",
    "}\n",
    "\n",
    "hyperparamtuner = HyperparameterTuner(estimator=xgb_model, max_jobs=5, max_parallel_jobs=2,\n",
    "                                      objective_metric_name=\"validation:aucpr\",\n",
    "                                      objective_type=\"Maximize\",\n",
    "                                      hyperparameter_ranges=hyper_params\n",
    "                                      )"
   ]
  },
  {
   "cell_type": "code",
   "execution_count": 26,
   "metadata": {},
   "outputs": [
    {
     "name": "stderr",
     "output_type": "stream",
     "text": [
      "'s3_input' class will be renamed to 'TrainingInput' in SageMaker Python SDK v2.\n",
      "'s3_input' class will be renamed to 'TrainingInput' in SageMaker Python SDK v2.\n"
     ]
    }
   ],
   "source": [
    "# Setup channels to map the input data for training and testing\n",
    "train_channel = sagemaker.session.s3_input(train_data, content_type='text/csv')\n",
    "test_channel = sagemaker.session.s3_input(test_data, content_type='text/csv')\n",
    "\n",
    "data_channels = {'train': train_channel, 'validation': test_channel}"
   ]
  },
  {
   "cell_type": "code",
   "execution_count": 27,
   "metadata": {},
   "outputs": [],
   "source": [
    "hyperparamtuner.fit(inputs=data_channels)"
   ]
  },
  {
   "cell_type": "code",
   "execution_count": 28,
   "metadata": {},
   "outputs": [
    {
     "name": "stdout",
     "output_type": "stream",
     "text": [
      "...............................................................................................................................................................!\n"
     ]
    }
   ],
   "source": [
    "hyperparamtuner.wait()"
   ]
  },
  {
   "cell_type": "code",
   "execution_count": 29,
   "metadata": {},
   "outputs": [
    {
     "name": "stderr",
     "output_type": "stream",
     "text": [
      "Parameter image_name will be renamed to image_uri in SageMaker Python SDK v2.\n"
     ]
    },
    {
     "name": "stdout",
     "output_type": "stream",
     "text": [
      "2020-09-25 07:21:36 Starting - Preparing the instances for training\n",
      "2020-09-25 07:21:36 Downloading - Downloading input data\n",
      "2020-09-25 07:21:36 Training - Training image download completed. Training in progress.\n",
      "2020-09-25 07:21:36 Uploading - Uploading generated training model\n",
      "2020-09-25 07:21:36 Completed - Training job completed\u001b[34mINFO:sagemaker-containers:Imported framework sagemaker_xgboost_container.training\u001b[0m\n",
      "\u001b[34mINFO:sagemaker-containers:Failed to parse hyperparameter eval_metric value auc to Json.\u001b[0m\n",
      "\u001b[34mReturning the value itself\u001b[0m\n",
      "\u001b[34mINFO:sagemaker-containers:Failed to parse hyperparameter _tuning_objective_metric value validation:aucpr to Json.\u001b[0m\n",
      "\u001b[34mReturning the value itself\u001b[0m\n",
      "\u001b[34mINFO:sagemaker-containers:Failed to parse hyperparameter objective value binary:logistic to Json.\u001b[0m\n",
      "\u001b[34mReturning the value itself\u001b[0m\n",
      "\u001b[34mINFO:sagemaker-containers:No GPUs detected (normal if no gpus installed)\u001b[0m\n",
      "\u001b[34mINFO:sagemaker_xgboost_container.training:Running XGBoost Sagemaker in algorithm mode\u001b[0m\n",
      "\u001b[34mINFO:root:Determined delimiter of CSV input is ','\u001b[0m\n",
      "\u001b[34mINFO:root:Determined delimiter of CSV input is ','\u001b[0m\n",
      "\u001b[34mINFO:root:Determined delimiter of CSV input is ','\u001b[0m\n",
      "\u001b[34m[07:20:36] 1994694x5 matrix with 9973470 entries loaded from /opt/ml/input/data/train?format=csv&label_column=0&delimiter=,\u001b[0m\n",
      "\u001b[34mINFO:root:Determined delimiter of CSV input is ','\u001b[0m\n",
      "\u001b[34m[07:20:37] 498674x5 matrix with 2493370 entries loaded from /opt/ml/input/data/validation?format=csv&label_column=0&delimiter=,\u001b[0m\n",
      "\u001b[34mINFO:root:Single node training.\u001b[0m\n",
      "\u001b[34mINFO:root:Setting up HPO optimized metric to be : aucpr\u001b[0m\n",
      "\u001b[34mINFO:root:Train matrix has 1994694 rows\u001b[0m\n",
      "\u001b[34mINFO:root:Validation matrix has 498674 rows\u001b[0m\n",
      "\u001b[34m[0]#011train-aucpr:0.80162#011train-auc:0.99887#011validation-aucpr:0.79846#011validation-auc:0.99443\u001b[0m\n",
      "\u001b[34m[1]#011train-aucpr:0.83206#011train-auc:0.99912#011validation-aucpr:0.82370#011validation-auc:0.99487\u001b[0m\n",
      "\u001b[34m[2]#011train-aucpr:0.86663#011train-auc:0.99934#011validation-aucpr:0.85387#011validation-auc:0.99623\u001b[0m\n",
      "\u001b[34m[3]#011train-aucpr:0.86876#011train-auc:0.99937#011validation-aucpr:0.85638#011validation-auc:0.99631\u001b[0m\n",
      "\u001b[34m[4]#011train-aucpr:0.88487#011train-auc:0.99950#011validation-aucpr:0.87047#011validation-auc:0.99687\u001b[0m\n",
      "\u001b[34m[5]#011train-aucpr:0.88786#011train-auc:0.99954#011validation-aucpr:0.87206#011validation-auc:0.99667\u001b[0m\n",
      "\u001b[34m[6]#011train-aucpr:0.89296#011train-auc:0.99957#011validation-aucpr:0.87584#011validation-auc:0.99679\u001b[0m\n",
      "\u001b[34m[7]#011train-aucpr:0.90018#011train-auc:0.99961#011validation-aucpr:0.88587#011validation-auc:0.99743\u001b[0m\n",
      "\u001b[34m[8]#011train-aucpr:0.90848#011train-auc:0.99967#011validation-aucpr:0.89223#011validation-auc:0.99751\u001b[0m\n",
      "\u001b[34m[9]#011train-aucpr:0.91422#011train-auc:0.99971#011validation-aucpr:0.89799#011validation-auc:0.99757\u001b[0m\n",
      "\u001b[34m[10]#011train-aucpr:0.91778#011train-auc:0.99972#011validation-aucpr:0.90128#011validation-auc:0.99761\u001b[0m\n",
      "\u001b[34m[11]#011train-aucpr:0.91882#011train-auc:0.99973#011validation-aucpr:0.90153#011validation-auc:0.99759\u001b[0m\n",
      "\u001b[34m[12]#011train-aucpr:0.91970#011train-auc:0.99974#011validation-aucpr:0.90243#011validation-auc:0.99759\u001b[0m\n",
      "\u001b[34m[13]#011train-aucpr:0.92332#011train-auc:0.99975#011validation-aucpr:0.90419#011validation-auc:0.99761\u001b[0m\n",
      "Training seconds: 119\n",
      "Billable seconds: 119\n"
     ]
    },
    {
     "data": {
      "text/plain": [
       "<sagemaker.estimator.Estimator at 0x7f47725160f0>"
      ]
     },
     "execution_count": 29,
     "metadata": {},
     "output_type": "execute_result"
    }
   ],
   "source": [
    "hyperparamtuner.best_estimator()"
   ]
  },
  {
   "cell_type": "code",
   "execution_count": 30,
   "metadata": {},
   "outputs": [
    {
     "name": "stderr",
     "output_type": "stream",
     "text": [
      "Parameter image_name will be renamed to image_uri in SageMaker Python SDK v2.\n"
     ]
    }
   ],
   "source": [
    "# Optionnal -- Attach your Hyperparam job\n",
    "hyperparamtuner = hyperparamtuner.attach(\"sagemaker-xgboost-200925-0708\", sagemaker_session=sagemaker_session)"
   ]
  },
  {
   "cell_type": "code",
   "execution_count": 31,
   "metadata": {},
   "outputs": [
    {
     "name": "stderr",
     "output_type": "stream",
     "text": [
      "Parameter image_name will be renamed to image_uri in SageMaker Python SDK v2.\n"
     ]
    },
    {
     "name": "stdout",
     "output_type": "stream",
     "text": [
      "2020-09-25 07:21:36 Starting - Preparing the instances for training\n",
      "2020-09-25 07:21:36 Downloading - Downloading input data\n",
      "2020-09-25 07:21:36 Training - Training image download completed. Training in progress.\n",
      "2020-09-25 07:21:36 Uploading - Uploading generated training model\n",
      "2020-09-25 07:21:36 Completed - Training job completed\u001b[34mINFO:sagemaker-containers:Imported framework sagemaker_xgboost_container.training\u001b[0m\n",
      "\u001b[34mINFO:sagemaker-containers:Failed to parse hyperparameter eval_metric value auc to Json.\u001b[0m\n",
      "\u001b[34mReturning the value itself\u001b[0m\n",
      "\u001b[34mINFO:sagemaker-containers:Failed to parse hyperparameter _tuning_objective_metric value validation:aucpr to Json.\u001b[0m\n",
      "\u001b[34mReturning the value itself\u001b[0m\n",
      "\u001b[34mINFO:sagemaker-containers:Failed to parse hyperparameter objective value binary:logistic to Json.\u001b[0m\n",
      "\u001b[34mReturning the value itself\u001b[0m\n",
      "\u001b[34mINFO:sagemaker-containers:No GPUs detected (normal if no gpus installed)\u001b[0m\n",
      "\u001b[34mINFO:sagemaker_xgboost_container.training:Running XGBoost Sagemaker in algorithm mode\u001b[0m\n",
      "\u001b[34mINFO:root:Determined delimiter of CSV input is ','\u001b[0m\n",
      "\u001b[34mINFO:root:Determined delimiter of CSV input is ','\u001b[0m\n",
      "\u001b[34mINFO:root:Determined delimiter of CSV input is ','\u001b[0m\n",
      "\u001b[34m[07:20:36] 1994694x5 matrix with 9973470 entries loaded from /opt/ml/input/data/train?format=csv&label_column=0&delimiter=,\u001b[0m\n",
      "\u001b[34mINFO:root:Determined delimiter of CSV input is ','\u001b[0m\n",
      "\u001b[34m[07:20:37] 498674x5 matrix with 2493370 entries loaded from /opt/ml/input/data/validation?format=csv&label_column=0&delimiter=,\u001b[0m\n",
      "\u001b[34mINFO:root:Single node training.\u001b[0m\n",
      "\u001b[34mINFO:root:Setting up HPO optimized metric to be : aucpr\u001b[0m\n",
      "\u001b[34mINFO:root:Train matrix has 1994694 rows\u001b[0m\n",
      "\u001b[34mINFO:root:Validation matrix has 498674 rows\u001b[0m\n",
      "\u001b[34m[0]#011train-aucpr:0.80162#011train-auc:0.99887#011validation-aucpr:0.79846#011validation-auc:0.99443\u001b[0m\n",
      "\u001b[34m[1]#011train-aucpr:0.83206#011train-auc:0.99912#011validation-aucpr:0.82370#011validation-auc:0.99487\u001b[0m\n",
      "\u001b[34m[2]#011train-aucpr:0.86663#011train-auc:0.99934#011validation-aucpr:0.85387#011validation-auc:0.99623\u001b[0m\n",
      "\u001b[34m[3]#011train-aucpr:0.86876#011train-auc:0.99937#011validation-aucpr:0.85638#011validation-auc:0.99631\u001b[0m\n",
      "\u001b[34m[4]#011train-aucpr:0.88487#011train-auc:0.99950#011validation-aucpr:0.87047#011validation-auc:0.99687\u001b[0m\n",
      "\u001b[34m[5]#011train-aucpr:0.88786#011train-auc:0.99954#011validation-aucpr:0.87206#011validation-auc:0.99667\u001b[0m\n",
      "\u001b[34m[6]#011train-aucpr:0.89296#011train-auc:0.99957#011validation-aucpr:0.87584#011validation-auc:0.99679\u001b[0m\n",
      "\u001b[34m[7]#011train-aucpr:0.90018#011train-auc:0.99961#011validation-aucpr:0.88587#011validation-auc:0.99743\u001b[0m\n",
      "\u001b[34m[8]#011train-aucpr:0.90848#011train-auc:0.99967#011validation-aucpr:0.89223#011validation-auc:0.99751\u001b[0m\n",
      "\u001b[34m[9]#011train-aucpr:0.91422#011train-auc:0.99971#011validation-aucpr:0.89799#011validation-auc:0.99757\u001b[0m\n",
      "\u001b[34m[10]#011train-aucpr:0.91778#011train-auc:0.99972#011validation-aucpr:0.90128#011validation-auc:0.99761\u001b[0m\n",
      "\u001b[34m[11]#011train-aucpr:0.91882#011train-auc:0.99973#011validation-aucpr:0.90153#011validation-auc:0.99759\u001b[0m\n",
      "\u001b[34m[12]#011train-aucpr:0.91970#011train-auc:0.99974#011validation-aucpr:0.90243#011validation-auc:0.99759\u001b[0m\n",
      "\u001b[34m[13]#011train-aucpr:0.92332#011train-auc:0.99975#011validation-aucpr:0.90419#011validation-auc:0.99761\u001b[0m\n",
      "Training seconds: 119\n",
      "Billable seconds: 119\n"
     ]
    },
    {
     "name": "stderr",
     "output_type": "stream",
     "text": [
      "Parameter image will be renamed to image_uri in SageMaker Python SDK v2.\n"
     ]
    },
    {
     "name": "stdout",
     "output_type": "stream",
     "text": [
      "-------------!"
     ]
    }
   ],
   "source": [
    "# Deploy your model\n",
    "xgb_predictor = hyperparamtuner.deploy(initial_instance_count=1,\n",
    "                                instance_type='ml.m5.large',\n",
    "                                endpoint_name='paysim'\n",
    "                                )"
   ]
  },
  {
   "cell_type": "markdown",
   "metadata": {},
   "source": [
    "## Batch predictions"
   ]
  },
  {
   "cell_type": "code",
   "execution_count": 50,
   "metadata": {},
   "outputs": [
    {
     "name": "stderr",
     "output_type": "stream",
     "text": [
      "Parameter image_name will be renamed to image_uri in SageMaker Python SDK v2.\n",
      "Parameter image_name will be renamed to image_uri in SageMaker Python SDK v2.\n"
     ]
    },
    {
     "name": "stdout",
     "output_type": "stream",
     "text": [
      "2020-09-25 07:21:36 Starting - Preparing the instances for training\n",
      "2020-09-25 07:21:36 Downloading - Downloading input data\n",
      "2020-09-25 07:21:36 Training - Training image download completed. Training in progress.\n",
      "2020-09-25 07:21:36 Uploading - Uploading generated training model\n",
      "2020-09-25 07:21:36 Completed - Training job completed\u001b[34mINFO:sagemaker-containers:Imported framework sagemaker_xgboost_container.training\u001b[0m\n",
      "\u001b[34mINFO:sagemaker-containers:Failed to parse hyperparameter eval_metric value auc to Json.\u001b[0m\n",
      "\u001b[34mReturning the value itself\u001b[0m\n",
      "\u001b[34mINFO:sagemaker-containers:Failed to parse hyperparameter _tuning_objective_metric value validation:aucpr to Json.\u001b[0m\n",
      "\u001b[34mReturning the value itself\u001b[0m\n",
      "\u001b[34mINFO:sagemaker-containers:Failed to parse hyperparameter objective value binary:logistic to Json.\u001b[0m\n",
      "\u001b[34mReturning the value itself\u001b[0m\n",
      "\u001b[34mINFO:sagemaker-containers:No GPUs detected (normal if no gpus installed)\u001b[0m\n",
      "\u001b[34mINFO:sagemaker_xgboost_container.training:Running XGBoost Sagemaker in algorithm mode\u001b[0m\n",
      "\u001b[34mINFO:root:Determined delimiter of CSV input is ','\u001b[0m\n",
      "\u001b[34mINFO:root:Determined delimiter of CSV input is ','\u001b[0m\n",
      "\u001b[34mINFO:root:Determined delimiter of CSV input is ','\u001b[0m\n",
      "\u001b[34m[07:20:36] 1994694x5 matrix with 9973470 entries loaded from /opt/ml/input/data/train?format=csv&label_column=0&delimiter=,\u001b[0m\n",
      "\u001b[34mINFO:root:Determined delimiter of CSV input is ','\u001b[0m\n",
      "\u001b[34m[07:20:37] 498674x5 matrix with 2493370 entries loaded from /opt/ml/input/data/validation?format=csv&label_column=0&delimiter=,\u001b[0m\n",
      "\u001b[34mINFO:root:Single node training.\u001b[0m\n",
      "\u001b[34mINFO:root:Setting up HPO optimized metric to be : aucpr\u001b[0m\n",
      "\u001b[34mINFO:root:Train matrix has 1994694 rows\u001b[0m\n",
      "\u001b[34mINFO:root:Validation matrix has 498674 rows\u001b[0m\n",
      "\u001b[34m[0]#011train-aucpr:0.80162#011train-auc:0.99887#011validation-aucpr:0.79846#011validation-auc:0.99443\u001b[0m\n",
      "\u001b[34m[1]#011train-aucpr:0.83206#011train-auc:0.99912#011validation-aucpr:0.82370#011validation-auc:0.99487\u001b[0m\n",
      "\u001b[34m[2]#011train-aucpr:0.86663#011train-auc:0.99934#011validation-aucpr:0.85387#011validation-auc:0.99623\u001b[0m\n",
      "\u001b[34m[3]#011train-aucpr:0.86876#011train-auc:0.99937#011validation-aucpr:0.85638#011validation-auc:0.99631\u001b[0m\n",
      "\u001b[34m[4]#011train-aucpr:0.88487#011train-auc:0.99950#011validation-aucpr:0.87047#011validation-auc:0.99687\u001b[0m\n",
      "\u001b[34m[5]#011train-aucpr:0.88786#011train-auc:0.99954#011validation-aucpr:0.87206#011validation-auc:0.99667\u001b[0m\n",
      "\u001b[34m[6]#011train-aucpr:0.89296#011train-auc:0.99957#011validation-aucpr:0.87584#011validation-auc:0.99679\u001b[0m\n",
      "\u001b[34m[7]#011train-aucpr:0.90018#011train-auc:0.99961#011validation-aucpr:0.88587#011validation-auc:0.99743\u001b[0m\n",
      "\u001b[34m[8]#011train-aucpr:0.90848#011train-auc:0.99967#011validation-aucpr:0.89223#011validation-auc:0.99751\u001b[0m\n",
      "\u001b[34m[9]#011train-aucpr:0.91422#011train-auc:0.99971#011validation-aucpr:0.89799#011validation-auc:0.99757\u001b[0m\n",
      "\u001b[34m[10]#011train-aucpr:0.91778#011train-auc:0.99972#011validation-aucpr:0.90128#011validation-auc:0.99761\u001b[0m\n",
      "\u001b[34m[11]#011train-aucpr:0.91882#011train-auc:0.99973#011validation-aucpr:0.90153#011validation-auc:0.99759\u001b[0m\n",
      "\u001b[34m[12]#011train-aucpr:0.91970#011train-auc:0.99974#011validation-aucpr:0.90243#011validation-auc:0.99759\u001b[0m\n",
      "\u001b[34m[13]#011train-aucpr:0.92332#011train-auc:0.99975#011validation-aucpr:0.90419#011validation-auc:0.99761\u001b[0m\n",
      "Training seconds: 119\n",
      "Billable seconds: 119\n"
     ]
    }
   ],
   "source": [
    "# Attach a training job to our model\n",
    "xgb_model = sagemaker.estimator.Estimator(container,\n",
    "                                          ROLE,\n",
    "                                          train_instance_count=1, \n",
    "                                          train_instance_type='ml.c5.4xlarge',\n",
    "                                          train_volume_size = 1,\n",
    "                                          output_path=s3_output_location,\n",
    "                                          sagemaker_session=sagemaker_session,\n",
    "                                          )\n",
    "xgb_model = xgb_model.attach(\"sagemaker-xgboost-200925-0708-005-530b03cf\", \n",
    "                             sagemaker_session=sagemaker_session)"
   ]
  },
  {
   "cell_type": "code",
   "execution_count": 51,
   "metadata": {},
   "outputs": [
    {
     "name": "stderr",
     "output_type": "stream",
     "text": [
      "Parameter image will be renamed to image_uri in SageMaker Python SDK v2.\n",
      "Using already existing model: sagemaker-xgboost-200925-0708-005-530b03cf\n"
     ]
    }
   ],
   "source": [
    "# Apply a transformer to make batch predictions\n",
    "xgb_transformer = xgb_model.transformer(instance_count=1,\n",
    "                                        instance_type='ml.m5.large',\n",
    "                                        strategy='MultiRecord',\n",
    "                                        assemble_with='Line',\n",
    "                                        output_path='s3://{}/{}/{}'.format(BUCKET_NAME, PREFIX, \"batch_predictions\"))"
   ]
  },
  {
   "cell_type": "code",
   "execution_count": 32,
   "metadata": {},
   "outputs": [],
   "source": [
    "test_set.iloc[:, 1:].to_csv(\"paysim/paysim-test-data-without-labels.csv\", index=False, header=False)"
   ]
  },
  {
   "cell_type": "code",
   "execution_count": 33,
   "metadata": {},
   "outputs": [
    {
     "data": {
      "text/plain": [
       "{'ResponseMetadata': {'RequestId': 'C68A66274964778A',\n",
       "  'HostId': 'xzQcLdNdR346fuxEWiYHN9hULquvSUTEfoqyhewnyQmxyyIBskYk3qIv09sDMuMGa23P/huKTIQ=',\n",
       "  'HTTPStatusCode': 200,\n",
       "  'HTTPHeaders': {'x-amz-id-2': 'xzQcLdNdR346fuxEWiYHN9hULquvSUTEfoqyhewnyQmxyyIBskYk3qIv09sDMuMGa23P/huKTIQ=',\n",
       "   'x-amz-request-id': 'C68A66274964778A',\n",
       "   'date': 'Fri, 25 Sep 2020 07:35:56 GMT',\n",
       "   'etag': '\"006bef91d9dd0b39ee073514e83596a8\"',\n",
       "   'content-length': '0',\n",
       "   'server': 'AmazonS3'},\n",
       "  'RetryAttempts': 0},\n",
       " 'ETag': '\"006bef91d9dd0b39ee073514e83596a8\"'}"
      ]
     },
     "execution_count": 33,
     "metadata": {},
     "output_type": "execute_result"
    }
   ],
   "source": [
    "# Upload that data to S3\n",
    "s3 = aws_session.client(\"s3\")\n",
    "s3.put_object(\n",
    "    Body=open(\"paysim/paysim-test-data-without-labels.csv\").read(),\n",
    "    Bucket=BUCKET_NAME,\n",
    "    Key=\"model/paysim-test-data-without-labels.csv\"\n",
    ")"
   ]
  },
  {
   "cell_type": "code",
   "execution_count": 52,
   "metadata": {},
   "outputs": [],
   "source": [
    "# Apply our batch predictions\n",
    "test_data = 's3://{}/{}/{}'.format(BUCKET_NAME, PREFIX, 'paysim-test-data-without-labels')\n",
    "xgb_transformer.transform(test_data, \n",
    "                          content_type='text/csv', \n",
    "                          split_type='Line')"
   ]
  },
  {
   "cell_type": "code",
   "execution_count": 53,
   "metadata": {},
   "outputs": [
    {
     "name": "stdout",
     "output_type": "stream",
     "text": [
      "......................\u001b[32m2020-09-25T08:32:09.943:[sagemaker logs]: MaxConcurrentTransforms=2, MaxPayloadInMB=6, BatchStrategy=MULTI_RECORD\u001b[0m\n",
      "\u001b[34m[2020-09-25:08:32:08:INFO] No GPUs detected (normal if no gpus installed)\u001b[0m\n",
      "\u001b[34m[2020-09-25:08:32:08:INFO] No GPUs detected (normal if no gpus installed)\u001b[0m\n",
      "\u001b[34m[2020-09-25:08:32:08:INFO] nginx config: \u001b[0m\n",
      "\u001b[34mworker_processes auto;\u001b[0m\n",
      "\u001b[34mdaemon off;\u001b[0m\n",
      "\u001b[34mpid /tmp/nginx.pid;\u001b[0m\n",
      "\u001b[34merror_log  /dev/stderr;\n",
      "\u001b[0m\n",
      "\u001b[34mworker_rlimit_nofile 4096;\n",
      "\u001b[0m\n",
      "\u001b[34mevents {\n",
      "  worker_connections 2048;\u001b[0m\n",
      "\u001b[34m}\n",
      "\u001b[0m\n",
      "\u001b[35m[2020-09-25:08:32:08:INFO] No GPUs detected (normal if no gpus installed)\u001b[0m\n",
      "\u001b[35m[2020-09-25:08:32:08:INFO] No GPUs detected (normal if no gpus installed)\u001b[0m\n",
      "\u001b[35m[2020-09-25:08:32:08:INFO] nginx config: \u001b[0m\n",
      "\u001b[35mworker_processes auto;\u001b[0m\n",
      "\u001b[35mdaemon off;\u001b[0m\n",
      "\u001b[35mpid /tmp/nginx.pid;\u001b[0m\n",
      "\u001b[35merror_log  /dev/stderr;\n",
      "\u001b[0m\n",
      "\u001b[35mworker_rlimit_nofile 4096;\n",
      "\u001b[0m\n",
      "\u001b[35mevents {\n",
      "  worker_connections 2048;\u001b[0m\n",
      "\u001b[35m}\n",
      "\u001b[0m\n",
      "\u001b[34mhttp {\n",
      "  include /etc/nginx/mime.types;\n",
      "  default_type application/octet-stream;\n",
      "  access_log /dev/stdout combined;\n",
      "\n",
      "  upstream gunicorn {\n",
      "    server unix:/tmp/gunicorn.sock;\n",
      "  }\n",
      "\n",
      "  server {\n",
      "    listen 8080 deferred;\n",
      "    client_max_body_size 0;\n",
      "\n",
      "    keepalive_timeout 3;\n",
      "\n",
      "    location ~ ^/(ping|invocations|execution-parameters) {\n",
      "      proxy_set_header X-Forwarded-For $proxy_add_x_forwarded_for;\n",
      "      proxy_set_header Host $http_host;\n",
      "      proxy_redirect off;\n",
      "      proxy_read_timeout 60s;\n",
      "      proxy_pass http://gunicorn;\n",
      "    }\n",
      "\n",
      "    location / {\n",
      "      return 404 \"{}\";\n",
      "    }\n",
      "\n",
      "  }\u001b[0m\n",
      "\u001b[34m}\n",
      "\n",
      "\u001b[0m\n",
      "\u001b[34m2020/09/25 08:32:08 [crit] 18#18: *1 connect() to unix:/tmp/gunicorn.sock failed (2: No such file or directory) while connecting to upstream, client: 169.254.255.130, server: , request: \"GET /ping HTTP/1.1\", upstream: \"http://unix:/tmp/gunicorn.sock:/ping\", host: \"169.254.255.131:8080\"\u001b[0m\n",
      "\u001b[34m169.254.255.130 - - [25/Sep/2020:08:32:08 +0000] \"GET /ping HTTP/1.1\" 502 182 \"-\" \"Go-http-client/1.1\"\u001b[0m\n",
      "\u001b[34m2020/09/25 08:32:08 [crit] 18#18: *3 connect() to unix:/tmp/gunicorn.sock failed (2: No such file or directory) while connecting to upstream, client: 169.254.255.130, server: , request: \"GET /ping HTTP/1.1\", upstream: \"http://unix:/tmp/gunicorn.sock:/ping\", host: \"169.254.255.131:8080\"\u001b[0m\n",
      "\u001b[34m169.254.255.130 - - [25/Sep/2020:08:32:08 +0000] \"GET /ping HTTP/1.1\" 502 182 \"-\" \"Go-http-client/1.1\"\u001b[0m\n",
      "\u001b[34m[2020-09-25 08:32:08 +0000] [16] [INFO] Starting gunicorn 19.10.0\u001b[0m\n",
      "\u001b[34m[2020-09-25 08:32:08 +0000] [16] [INFO] Listening at: unix:/tmp/gunicorn.sock (16)\u001b[0m\n",
      "\u001b[34m[2020-09-25 08:32:08 +0000] [16] [INFO] Using worker: gevent\u001b[0m\n",
      "\u001b[34m[2020-09-25 08:32:08 +0000] [21] [INFO] Booting worker with pid: 21\u001b[0m\n",
      "\u001b[34m[2020-09-25 08:32:08 +0000] [22] [INFO] Booting worker with pid: 22\u001b[0m\n",
      "\u001b[34m[2020-09-25:08:32:09:INFO] No GPUs detected (normal if no gpus installed)\u001b[0m\n",
      "\u001b[34m169.254.255.130 - - [25/Sep/2020:08:32:09 +0000] \"GET /ping HTTP/1.1\" 200 0 \"-\" \"Go-http-client/1.1\"\u001b[0m\n",
      "\u001b[34m169.254.255.130 - - [25/Sep/2020:08:32:09 +0000] \"GET /execution-parameters HTTP/1.1\" 200 84 \"-\" \"Go-http-client/1.1\"\u001b[0m\n",
      "\u001b[34m[2020-09-25:08:32:10:INFO] No GPUs detected (normal if no gpus installed)\u001b[0m\n",
      "\u001b[34m[2020-09-25:08:32:10:INFO] Determined delimiter of CSV input is ','\u001b[0m\n",
      "\u001b[34m[2020-09-25:08:32:10:INFO] Determined delimiter of CSV input is ','\u001b[0m\n",
      "\u001b[35mhttp {\n",
      "  include /etc/nginx/mime.types;\n",
      "  default_type application/octet-stream;\n",
      "  access_log /dev/stdout combined;\n",
      "\n",
      "  upstream gunicorn {\n",
      "    server unix:/tmp/gunicorn.sock;\n",
      "  }\n",
      "\n",
      "  server {\n",
      "    listen 8080 deferred;\n",
      "    client_max_body_size 0;\n",
      "\n",
      "    keepalive_timeout 3;\n",
      "\n",
      "    location ~ ^/(ping|invocations|execution-parameters) {\n",
      "      proxy_set_header X-Forwarded-For $proxy_add_x_forwarded_for;\n",
      "      proxy_set_header Host $http_host;\n",
      "      proxy_redirect off;\n",
      "      proxy_read_timeout 60s;\n",
      "      proxy_pass http://gunicorn;\n",
      "    }\n",
      "\n",
      "    location / {\n",
      "      return 404 \"{}\";\n",
      "    }\n",
      "\n",
      "  }\u001b[0m\n",
      "\u001b[35m}\n",
      "\n",
      "\u001b[0m\n",
      "\u001b[35m2020/09/25 08:32:08 [crit] 18#18: *1 connect() to unix:/tmp/gunicorn.sock failed (2: No such file or directory) while connecting to upstream, client: 169.254.255.130, server: , request: \"GET /ping HTTP/1.1\", upstream: \"http://unix:/tmp/gunicorn.sock:/ping\", host: \"169.254.255.131:8080\"\u001b[0m\n",
      "\u001b[35m169.254.255.130 - - [25/Sep/2020:08:32:08 +0000] \"GET /ping HTTP/1.1\" 502 182 \"-\" \"Go-http-client/1.1\"\u001b[0m\n",
      "\u001b[35m2020/09/25 08:32:08 [crit] 18#18: *3 connect() to unix:/tmp/gunicorn.sock failed (2: No such file or directory) while connecting to upstream, client: 169.254.255.130, server: , request: \"GET /ping HTTP/1.1\", upstream: \"http://unix:/tmp/gunicorn.sock:/ping\", host: \"169.254.255.131:8080\"\u001b[0m\n",
      "\u001b[35m169.254.255.130 - - [25/Sep/2020:08:32:08 +0000] \"GET /ping HTTP/1.1\" 502 182 \"-\" \"Go-http-client/1.1\"\u001b[0m\n",
      "\u001b[35m[2020-09-25 08:32:08 +0000] [16] [INFO] Starting gunicorn 19.10.0\u001b[0m\n",
      "\u001b[35m[2020-09-25 08:32:08 +0000] [16] [INFO] Listening at: unix:/tmp/gunicorn.sock (16)\u001b[0m\n",
      "\u001b[35m[2020-09-25 08:32:08 +0000] [16] [INFO] Using worker: gevent\u001b[0m\n",
      "\u001b[35m[2020-09-25 08:32:08 +0000] [21] [INFO] Booting worker with pid: 21\u001b[0m\n",
      "\u001b[35m[2020-09-25 08:32:08 +0000] [22] [INFO] Booting worker with pid: 22\u001b[0m\n",
      "\u001b[35m[2020-09-25:08:32:09:INFO] No GPUs detected (normal if no gpus installed)\u001b[0m\n",
      "\u001b[35m169.254.255.130 - - [25/Sep/2020:08:32:09 +0000] \"GET /ping HTTP/1.1\" 200 0 \"-\" \"Go-http-client/1.1\"\u001b[0m\n",
      "\u001b[35m169.254.255.130 - - [25/Sep/2020:08:32:09 +0000] \"GET /execution-parameters HTTP/1.1\" 200 84 \"-\" \"Go-http-client/1.1\"\u001b[0m\n",
      "\u001b[35m[2020-09-25:08:32:10:INFO] No GPUs detected (normal if no gpus installed)\u001b[0m\n",
      "\u001b[35m[2020-09-25:08:32:10:INFO] Determined delimiter of CSV input is ','\u001b[0m\n",
      "\u001b[35m[2020-09-25:08:32:10:INFO] Determined delimiter of CSV input is ','\u001b[0m\n",
      "\u001b[34m169.254.255.130 - - [25/Sep/2020:08:32:11 +0000] \"POST /invocations HTTP/1.1\" 200 1234523 \"-\" \"Go-http-client/1.1\"\u001b[0m\n",
      "\u001b[35m169.254.255.130 - - [25/Sep/2020:08:32:11 +0000] \"POST /invocations HTTP/1.1\" 200 1234523 \"-\" \"Go-http-client/1.1\"\u001b[0m\n",
      "\u001b[34m169.254.255.130 - - [25/Sep/2020:08:32:11 +0000] \"POST /invocations HTTP/1.1\" 200 1234548 \"-\" \"Go-http-client/1.1\"\u001b[0m\n",
      "\u001b[34m[2020-09-25:08:32:11:INFO] Determined delimiter of CSV input is ','\u001b[0m\n",
      "\u001b[34m[2020-09-25:08:32:11:INFO] Determined delimiter of CSV input is ','\u001b[0m\n",
      "\u001b[35m169.254.255.130 - - [25/Sep/2020:08:32:11 +0000] \"POST /invocations HTTP/1.1\" 200 1234548 \"-\" \"Go-http-client/1.1\"\u001b[0m\n",
      "\u001b[35m[2020-09-25:08:32:11:INFO] Determined delimiter of CSV input is ','\u001b[0m\n",
      "\u001b[35m[2020-09-25:08:32:11:INFO] Determined delimiter of CSV input is ','\u001b[0m\n",
      "\u001b[34m169.254.255.130 - - [25/Sep/2020:08:32:12 +0000] \"POST /invocations HTTP/1.1\" 200 1234777 \"-\" \"Go-http-client/1.1\"\u001b[0m\n",
      "\u001b[34m169.254.255.130 - - [25/Sep/2020:08:32:12 +0000] \"POST /invocations HTTP/1.1\" 200 1234795 \"-\" \"Go-http-client/1.1\"\u001b[0m\n",
      "\u001b[34m[2020-09-25:08:32:12:INFO] Determined delimiter of CSV input is ','\u001b[0m\n",
      "\u001b[34m[2020-09-25:08:32:12:INFO] Determined delimiter of CSV input is ','\u001b[0m\n",
      "\u001b[35m169.254.255.130 - - [25/Sep/2020:08:32:12 +0000] \"POST /invocations HTTP/1.1\" 200 1234777 \"-\" \"Go-http-client/1.1\"\u001b[0m\n",
      "\u001b[35m169.254.255.130 - - [25/Sep/2020:08:32:12 +0000] \"POST /invocations HTTP/1.1\" 200 1234795 \"-\" \"Go-http-client/1.1\"\u001b[0m\n",
      "\u001b[35m[2020-09-25:08:32:12:INFO] Determined delimiter of CSV input is ','\u001b[0m\n",
      "\u001b[35m[2020-09-25:08:32:12:INFO] Determined delimiter of CSV input is ','\u001b[0m\n",
      "\u001b[34m169.254.255.130 - - [25/Sep/2020:08:32:13 +0000] \"POST /invocations HTTP/1.1\" 200 1234645 \"-\" \"Go-http-client/1.1\"\u001b[0m\n",
      "\u001b[34m169.254.255.130 - - [25/Sep/2020:08:32:13 +0000] \"POST /invocations HTTP/1.1\" 200 1234548 \"-\" \"Go-http-client/1.1\"\u001b[0m\n",
      "\u001b[34m[2020-09-25:08:32:13:INFO] Determined delimiter of CSV input is ','\u001b[0m\n",
      "\u001b[34m[2020-09-25:08:32:13:INFO] Determined delimiter of CSV input is ','\u001b[0m\n",
      "\u001b[35m169.254.255.130 - - [25/Sep/2020:08:32:13 +0000] \"POST /invocations HTTP/1.1\" 200 1234645 \"-\" \"Go-http-client/1.1\"\u001b[0m\n",
      "\u001b[35m169.254.255.130 - - [25/Sep/2020:08:32:13 +0000] \"POST /invocations HTTP/1.1\" 200 1234548 \"-\" \"Go-http-client/1.1\"\u001b[0m\n",
      "\u001b[35m[2020-09-25:08:32:13:INFO] Determined delimiter of CSV input is ','\u001b[0m\n",
      "\u001b[35m[2020-09-25:08:32:13:INFO] Determined delimiter of CSV input is ','\u001b[0m\n",
      "\u001b[34m169.254.255.130 - - [25/Sep/2020:08:32:14 +0000] \"POST /invocations HTTP/1.1\" 200 1234532 \"-\" \"Go-http-client/1.1\"\u001b[0m\n",
      "\u001b[34m[2020-09-25:08:32:14:INFO] Determined delimiter of CSV input is ','\u001b[0m\n",
      "\u001b[34m169.254.255.130 - - [25/Sep/2020:08:32:14 +0000] \"POST /invocations HTTP/1.1\" 200 1234405 \"-\" \"Go-http-client/1.1\"\u001b[0m\n",
      "\u001b[34m169.254.255.130 - - [25/Sep/2020:08:32:14 +0000] \"POST /invocations HTTP/1.1\" 200 42232 \"-\" \"Go-http-client/1.1\"\u001b[0m\n",
      "\u001b[35m169.254.255.130 - - [25/Sep/2020:08:32:14 +0000] \"POST /invocations HTTP/1.1\" 200 1234532 \"-\" \"Go-http-client/1.1\"\u001b[0m\n",
      "\u001b[35m[2020-09-25:08:32:14:INFO] Determined delimiter of CSV input is ','\u001b[0m\n",
      "\u001b[35m169.254.255.130 - - [25/Sep/2020:08:32:14 +0000] \"POST /invocations HTTP/1.1\" 200 1234405 \"-\" \"Go-http-client/1.1\"\u001b[0m\n",
      "\u001b[35m169.254.255.130 - - [25/Sep/2020:08:32:14 +0000] \"POST /invocations HTTP/1.1\" 200 42232 \"-\" \"Go-http-client/1.1\"\u001b[0m\n",
      "\n",
      "CPU times: user 540 ms, sys: 30 ms, total: 570 ms\n",
      "Wall time: 4min 15s\n"
     ]
    }
   ],
   "source": [
    "%%time\n",
    "xgb_transformer.wait(logs=True)"
   ]
  },
  {
   "cell_type": "code",
   "execution_count": 55,
   "metadata": {},
   "outputs": [],
   "source": [
    "# Get the output file containing the predictions\n",
    "key = \"{}/{}/{}\".format(PREFIX, \"batch_predictions\", \"paysim-test-data-without-labels.csv.out\")\n",
    "object_file = s3.get_object(\n",
    "                  Bucket=BUCKET_NAME,\n",
    "                  Key=key\n",
    "              )"
   ]
  },
  {
   "cell_type": "code",
   "execution_count": 56,
   "metadata": {},
   "outputs": [],
   "source": [
    "# Read the file's content\n",
    "body = object_file[\"Body\"].read()"
   ]
  },
  {
   "cell_type": "code",
   "execution_count": 57,
   "metadata": {},
   "outputs": [],
   "source": [
    "# Write the file and load it onto pandas \n",
    "with open(\"paysim/predictions.csv\", \"w\") as f:\n",
    "    f.write(body.decode(\"utf-8\")) "
   ]
  },
  {
   "cell_type": "code",
   "execution_count": 58,
   "metadata": {},
   "outputs": [
    {
     "data": {
      "text/html": [
       "<div>\n",
       "<style scoped>\n",
       "    .dataframe tbody tr th:only-of-type {\n",
       "        vertical-align: middle;\n",
       "    }\n",
       "\n",
       "    .dataframe tbody tr th {\n",
       "        vertical-align: top;\n",
       "    }\n",
       "\n",
       "    .dataframe thead th {\n",
       "        text-align: right;\n",
       "    }\n",
       "</style>\n",
       "<table border=\"1\" class=\"dataframe\">\n",
       "  <thead>\n",
       "    <tr style=\"text-align: right;\">\n",
       "      <th></th>\n",
       "      <th>0</th>\n",
       "    </tr>\n",
       "  </thead>\n",
       "  <tbody>\n",
       "    <tr>\n",
       "      <th>0</th>\n",
       "      <td>0.070524</td>\n",
       "    </tr>\n",
       "    <tr>\n",
       "      <th>1</th>\n",
       "      <td>0.924846</td>\n",
       "    </tr>\n",
       "    <tr>\n",
       "      <th>2</th>\n",
       "      <td>0.070688</td>\n",
       "    </tr>\n",
       "    <tr>\n",
       "      <th>3</th>\n",
       "      <td>0.070524</td>\n",
       "    </tr>\n",
       "    <tr>\n",
       "      <th>4</th>\n",
       "      <td>0.070466</td>\n",
       "    </tr>\n",
       "  </tbody>\n",
       "</table>\n",
       "</div>"
      ],
      "text/plain": [
       "          0\n",
       "0  0.070524\n",
       "1  0.924846\n",
       "2  0.070688\n",
       "3  0.070524\n",
       "4  0.070466"
      ]
     },
     "execution_count": 58,
     "metadata": {},
     "output_type": "execute_result"
    }
   ],
   "source": [
    "df_pred = pd.read_csv(\"paysim/predictions.csv\", header=None)\n",
    "df_pred.head()"
   ]
  },
  {
   "cell_type": "code",
   "execution_count": 62,
   "metadata": {},
   "outputs": [
    {
     "data": {
      "image/png": "[encoded data removed]",
      "text/plain": [
       "<Figure size 432x288 with 2 Axes>"
      ]
     },
     "metadata": {
      "needs_background": "light"
     },
     "output_type": "display_data"
    }
   ],
   "source": [
    "# Validate the model \n",
    "non_logits_preds = [0 if x < 0.5 else 1 for x in df_pred[0]]\n",
    "labels = test_set[\"target\"]\n",
    "labels = [float(x) for x in labels]\n",
    "\n",
    "from sklearn.metrics import confusion_matrix\n",
    "cm = confusion_matrix(labels, non_logits_preds)\n",
    "\n",
    "import seaborn as sns \n",
    "sns.heatmap(cm, annot=True, fmt=\"0.2f\");"
   ]
  },
  {
   "cell_type": "raw",
   "metadata": {
    "colab": {},
    "colab_type": "code",
    "id": "Nt0-4GjpS9CT"
   },
   "source": [
    "# Import the model from an Endpoint\n",
    "from sagemaker.predictor import RealTimePredictor\n",
    "xgb_predictor = RealTimePredictor(\"paysim\", \n",
    "                                  sagemaker_session=sagemaker_session, \n",
    "                                  content_type='text/csv')"
   ]
  },
  {
   "cell_type": "raw",
   "metadata": {
    "colab": {
     "base_uri": "https://localhost:8080/",
     "height": 1000
    },
    "colab_type": "code",
    "executionInfo": {
     "elapsed": 30760,
     "status": "ok",
     "timestamp": 1579450436177,
     "user": {
      "displayName": "Antoine Krajnc",
      "photoUrl": "https://lh3.googleusercontent.com/a-/AAuE7mC4XzNDVGvURzl4T5duDbMr6bUdhkYkDul_37G0OA=s64",
      "userId": "08465960390418158788"
     },
     "user_tz": -60
    },
    "id": "nrtWa1aaZxvq",
    "outputId": "899db3d4-526c-4aba-a9d1-e99c27a3d77c"
   },
   "source": [
    "# Make predictions \n",
    "import urllib\n",
    "request = urllib.request.urlopen(\"file:paysim/paysim-test-set.csv\")\n",
    "\n",
    "predictions = []\n",
    "labels = []\n",
    "for line in request.readlines():\n",
    "    real_label = line.decode(\"utf-8\").split(\",\")[0]\n",
    "    labels.append(real_label)\n",
    "\n",
    "    prediction_result = xgb_predictor.predict(\",\".join(line.decode(\"utf-8\").split(\",\")[1:]))\n",
    "    predictions.append(float(prediction_result.decode(\"utf-8\")))\n",
    "\n",
    "    print(\"Prediction: {:.2f} | Real Value: {}\".format(float(prediction_result.decode(\"utf-8\")), real_label))"
   ]
  },
  {
   "cell_type": "code",
   "execution_count": null,
   "metadata": {
    "colab": {},
    "colab_type": "code",
    "id": "sflKzmZu_umf"
   },
   "outputs": [],
   "source": []
  }
 ],
 "metadata": {
  "colab": {
   "authorship_tag": "ABX9TyOHbGNKssmru6fooSSeFiXP",
   "collapsed_sections": [],
   "name": "XGboost on Titanic",
   "provenance": []
  },
  "kernelspec": {
   "display_name": "Python 3.8.5 64-bit ('aws': conda)",
   "language": "python",
   "name": "python_defaultSpec_1601593694767"
  },
  "language_info": {
   "codemirror_mode": {
    "name": "ipython",
    "version": 3
   },
   "file_extension": ".py",
   "mimetype": "text/x-python",
   "name": "python",
   "nbconvert_exporter": "python",
   "pygments_lexer": "ipython3",
   "version": "3.8.5-final"
  }
 },
 "nbformat": 4,
 "nbformat_minor": 4
}